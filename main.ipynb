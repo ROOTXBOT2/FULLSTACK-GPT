{
 "cells": [
  {
   "cell_type": "code",
   "execution_count": 2,
   "metadata": {},
   "outputs": [
    {
     "data": {
      "text/plain": [
       "['pikachu', 'bulbasaur', 'charmander', 'squirtle', 'jigglypuff']"
      ]
     },
     "execution_count": 2,
     "metadata": {},
     "output_type": "execute_result"
    }
   ],
   "source": [
    "from langchain_openai import ChatOpenAI\n",
    "from langchain.prompts import ChatPromptTemplate\n",
    "from langchain.schema import BaseOutputParser\n",
    "\n",
    "from dotenv import load_dotenv\n",
    "import os\n",
    "\n",
    "load_dotenv()  # take environment variables from .env.\n",
    "api_key = os.getenv(\"OPENAI_API_KEY\")\n",
    "\n",
    "if api_key is None:\n",
    "    raise ValueError(\"OPENAI_API_KEY가 .env 파일에 설정되지 않았습니다.\")\n",
    "\n",
    "\n",
    "chat = ChatOpenAI(\n",
    "    openai_api_key=api_key,\n",
    "    temperature=0.1\n",
    "    )\n",
    "chat = ChatOpenAI()\n",
    "\n",
    "class CommaOutputParser(BaseOutputParser):\n",
    "    def parse(self, text):\n",
    "        items = text.strip().split(\",\")\n",
    "        return list(map(str.strip, items))\n",
    "\n",
    "template = ChatPromptTemplate.from_messages(\n",
    "    [\n",
    "        (\n",
    "            \"system\",\n",
    "            \"You are a list generating machine. Everything you are asked will be answered with a comma separated list of max {max_items} in lowercase.Do NOT reply with anything else.\",\n",
    "        ),\n",
    "        (\"human\", \"{question}\"),\n",
    "    ]\n",
    ")\n",
    "\n",
    "chain = template | chat | CommaOutputParser()\n",
    "\n",
    "chain.invoke({\"max_items\": 5, \"question\": \"What are the pokemons?\"})"
   ]
  },
  {
   "cell_type": "code",
   "execution_count": null,
   "metadata": {},
   "outputs": [
    {
     "name": "stdout",
     "output_type": "stream",
     "text": [
      "That's great! Indian cuisine is known for its rich flavors and variety of dishes. Here are a few popular Indian recipes you can try:\n",
      "\n",
      "1. Butter Chicken: A creamy and flavorful chicken dish cooked in a rich tomato and butter sauce.\n",
      "\n",
      "2. Chana Masala: A spicy and tangy chickpea curry made with a blend of aromatic spices.\n",
      "\n",
      "3. Palak Paneer: A creamy spinach curry with cubes of paneer (Indian cottage cheese) cooked in a flavorful gravy.\n",
      "\n",
      "4. Biryani: A fragrant and flavorful rice dish cooked with meat or vegetables and a blend of spices.\n",
      "\n",
      "5. Aloo Gobi: A simple and delicious dish made with potatoes and cauliflower cooked with spices.\n",
      "\n",
      "6. Dal Tadka: A comforting lentil curry made with yellow lentils tempered with spices.\n",
      "\n",
      "These are just a few examples of the many delicious Indian dishes you can try cooking at home. Enjoy your culinary adventure!For the Butter Chicken recipe, you can replace the chicken with paneer or tofu to make it vegetarian. Paneer is a common substitute in Indian cuisine and can be found in most grocery stores. To prepare paneer for this dish, you can cut it into cubes and lightly fry or grill them before adding them to the tomato and butter sauce.\n",
      "\n",
      "In the Chana Masala recipe, you can simply omit the chicken and increase the amount of chickpeas to make it a hearty vegetarian dish. You can also add some diced potatoes or carrots for extra texture and flavor.\n",
      "\n",
      "For Palak Paneer, you can use the same paneer substitute mentioned earlier. To prepare the paneer for this dish, you can lightly fry or grill the paneer cubes before adding them to the creamy spinach gravy.\n",
      "\n",
      "In Biryani, you can replace the meat with vegetables like potatoes, carrots, peas, and cauliflower to make a flavorful vegetarian version. You can also add some paneer cubes for a protein boost.\n",
      "\n",
      "Aloo Gobi is already a vegetarian dish, so no substitutions are needed for this recipe.\n",
      "\n",
      "For Dal Tadka, you can use yellow lentils as called for in the recipe. To add more depth of flavor, you can also use a mix of different lentils like red lentils or split peas.\n",
      "\n",
      "Enjoy cooking these vegetarian versions of traditional Indian recipes!"
     ]
    },
    {
     "data": {
      "text/plain": [
       "AIMessage(content='For the Butter Chicken recipe, you can replace the chicken with paneer or tofu to make it vegetarian. Paneer is a common substitute in Indian cuisine and can be found in most grocery stores. To prepare paneer for this dish, you can cut it into cubes and lightly fry or grill them before adding them to the tomato and butter sauce.\\n\\nIn the Chana Masala recipe, you can simply omit the chicken and increase the amount of chickpeas to make it a hearty vegetarian dish. You can also add some diced potatoes or carrots for extra texture and flavor.\\n\\nFor Palak Paneer, you can use the same paneer substitute mentioned earlier. To prepare the paneer for this dish, you can lightly fry or grill the paneer cubes before adding them to the creamy spinach gravy.\\n\\nIn Biryani, you can replace the meat with vegetables like potatoes, carrots, peas, and cauliflower to make a flavorful vegetarian version. You can also add some paneer cubes for a protein boost.\\n\\nAloo Gobi is already a vegetarian dish, so no substitutions are needed for this recipe.\\n\\nFor Dal Tadka, you can use yellow lentils as called for in the recipe. To add more depth of flavor, you can also use a mix of different lentils like red lentils or split peas.\\n\\nEnjoy cooking these vegetarian versions of traditional Indian recipes!', additional_kwargs={}, response_metadata={'finish_reason': 'stop', 'model_name': 'gpt-3.5-turbo-0125'}, id='run-f16efa31-0051-411c-89f4-909a864b9435-0')"
      ]
     },
     "execution_count": 4,
     "metadata": {},
     "output_type": "execute_result"
    }
   ],
   "source": [
    "from langchain_openai import ChatOpenAI\n",
    "from langchain.prompts import ChatPromptTemplate\n",
    "from langchain.callbacks import StreamingStdOutCallbackHandler\n",
    "from dotenv import load_dotenv\n",
    "import os\n",
    "\n",
    "load_dotenv()  # take environment variables from .env.\n",
    "api_key = os.getenv(\"OPENAI_API_KEY\")\n",
    "\n",
    "if api_key is None:\n",
    "    raise ValueError(\"OPENAI_API_KEY가 .env 파일에 설정되지 않았습니다.\")\n",
    "\n",
    "chat = ChatOpenAI(\n",
    "    openai_api_key=api_key,\n",
    "    temperature=0.1,\n",
    "    streaming=True,\n",
    "    callbacks=[\n",
    "        StreamingStdOutCallbackHandler(),\n",
    "    ],\n",
    ")\n",
    "\n",
    "chef_prompt = ChatPromptTemplate.from_messages(\n",
    "    [\n",
    "        (\n",
    "            \"system\",\n",
    "            \"\",\n",
    "        ),\n",
    "        (\"human\", \"I want to cook {cuisine} food.\"),\n",
    "    ]\n",
    ")\n",
    "\n",
    "chef_chain = chef_prompt | chat\n",
    "veg_chef_prompt = ChatPromptTemplate.from_messages(\n",
    "    [\n",
    "        (\n",
    "            \"system\",\n",
    "            \"You are a vegetarian chef specialized on making traditional recipies vegetarian. You find alternative ingredients and explain their preparation. You don't radically modify the recipe. If there is no alternative for a food just say you don't know how to replace it.\",\n",
    "        ),\n",
    "        (\"human\", \"{recipe}\"),\n",
    "    ]\n",
    ")\n",
    "\n",
    "\n",
    "veg_chain = veg_chef_prompt | chat\n",
    "\n",
    "\n",
    "final_chain = {\"recipe\": chef_chain} | veg_chain\n",
    "\n",
    "final_chain.invoke({\"cuisine\": \"indian\"})"
   ]
  }
 ],
 "metadata": {
  "kernelspec": {
   "display_name": "FULLSTACK-GPT",
   "language": "python",
   "name": "python3"
  },
  "language_info": {
   "codemirror_mode": {
    "name": "ipython",
    "version": 3
   },
   "file_extension": ".py",
   "mimetype": "text/x-python",
   "name": "python",
   "nbconvert_exporter": "python",
   "pygments_lexer": "ipython3",
   "version": "3.12.4"
  }
 },
 "nbformat": 4,
 "nbformat_minor": 2
}
